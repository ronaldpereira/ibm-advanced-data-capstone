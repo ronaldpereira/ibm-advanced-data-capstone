{
 "metadata": {
  "language_info": {
   "codemirror_mode": {
    "name": "ipython",
    "version": 3
   },
   "file_extension": ".py",
   "mimetype": "text/x-python",
   "name": "python",
   "nbconvert_exporter": "python",
   "pygments_lexer": "ipython3",
   "version": "3.8.5-final"
  },
  "orig_nbformat": 2,
  "kernelspec": {
   "name": "python3",
   "display_name": "Python 3.8.5 64-bit ('.env')",
   "metadata": {
    "interpreter": {
     "hash": "7e7fe711ea3c1e3ae94fc4ddbb7f544b3b9ae479fdef8a4012d276899fa82627"
    }
   }
  }
 },
 "nbformat": 4,
 "nbformat_minor": 2,
 "cells": [
  {
   "cell_type": "code",
   "execution_count": 1,
   "metadata": {},
   "outputs": [],
   "source": [
    "import pickle\n",
    "from math import sqrt\n",
    "from typing import Dict, Union\n",
    "\n",
    "import numpy as np\n",
    "import pandas as pd\n",
    "import torch\n",
    "from sklearn.ensemble import VotingRegressor\n",
    "from sklearn.linear_model import LinearRegression, SGDRegressor\n",
    "from sklearn.metrics import explained_variance_score, mean_absolute_error, mean_squared_error, r2_score\n",
    "from sklearn.model_selection import train_test_split\n",
    "from sklearn.neural_network import MLPRegressor\n",
    "from sklearn.pipeline import Pipeline\n",
    "from sklearn.preprocessing import StandardScaler\n",
    "from xgboost.sklearn import XGBRegressor\n",
    "\n",
    "SEED = 1212\n"
   ]
  },
  {
   "cell_type": "code",
   "execution_count": 2,
   "metadata": {},
   "outputs": [
    {
     "output_type": "execute_result",
     "data": {
      "text/plain": [
       "   fixed acidity  volatile acidity  citric acid  residual sugar  chlorides  \\\n",
       "0            7.4              0.70         0.00             1.9      0.076   \n",
       "1            7.8              0.88         0.00             2.6      0.098   \n",
       "2            7.8              0.76         0.04             2.3      0.092   \n",
       "3           11.2              0.28         0.56             1.9      0.075   \n",
       "4            7.4              0.70         0.00             1.9      0.076   \n",
       "\n",
       "   free sulfur dioxide  total sulfur dioxide  density    pH  sulphates  \\\n",
       "0                 11.0                  34.0   0.9978  3.51       0.56   \n",
       "1                 25.0                  67.0   0.9968  3.20       0.68   \n",
       "2                 15.0                  54.0   0.9970  3.26       0.65   \n",
       "3                 17.0                  60.0   0.9980  3.16       0.58   \n",
       "4                 11.0                  34.0   0.9978  3.51       0.56   \n",
       "\n",
       "   alcohol  quality  \n",
       "0      9.4        5  \n",
       "1      9.8        5  \n",
       "2      9.8        5  \n",
       "3      9.8        6  \n",
       "4      9.4        5  "
      ],
      "text/html": "<div>\n<style scoped>\n    .dataframe tbody tr th:only-of-type {\n        vertical-align: middle;\n    }\n\n    .dataframe tbody tr th {\n        vertical-align: top;\n    }\n\n    .dataframe thead th {\n        text-align: right;\n    }\n</style>\n<table border=\"1\" class=\"dataframe\">\n  <thead>\n    <tr style=\"text-align: right;\">\n      <th></th>\n      <th>fixed acidity</th>\n      <th>volatile acidity</th>\n      <th>citric acid</th>\n      <th>residual sugar</th>\n      <th>chlorides</th>\n      <th>free sulfur dioxide</th>\n      <th>total sulfur dioxide</th>\n      <th>density</th>\n      <th>pH</th>\n      <th>sulphates</th>\n      <th>alcohol</th>\n      <th>quality</th>\n    </tr>\n  </thead>\n  <tbody>\n    <tr>\n      <th>0</th>\n      <td>7.4</td>\n      <td>0.70</td>\n      <td>0.00</td>\n      <td>1.9</td>\n      <td>0.076</td>\n      <td>11.0</td>\n      <td>34.0</td>\n      <td>0.9978</td>\n      <td>3.51</td>\n      <td>0.56</td>\n      <td>9.4</td>\n      <td>5</td>\n    </tr>\n    <tr>\n      <th>1</th>\n      <td>7.8</td>\n      <td>0.88</td>\n      <td>0.00</td>\n      <td>2.6</td>\n      <td>0.098</td>\n      <td>25.0</td>\n      <td>67.0</td>\n      <td>0.9968</td>\n      <td>3.20</td>\n      <td>0.68</td>\n      <td>9.8</td>\n      <td>5</td>\n    </tr>\n    <tr>\n      <th>2</th>\n      <td>7.8</td>\n      <td>0.76</td>\n      <td>0.04</td>\n      <td>2.3</td>\n      <td>0.092</td>\n      <td>15.0</td>\n      <td>54.0</td>\n      <td>0.9970</td>\n      <td>3.26</td>\n      <td>0.65</td>\n      <td>9.8</td>\n      <td>5</td>\n    </tr>\n    <tr>\n      <th>3</th>\n      <td>11.2</td>\n      <td>0.28</td>\n      <td>0.56</td>\n      <td>1.9</td>\n      <td>0.075</td>\n      <td>17.0</td>\n      <td>60.0</td>\n      <td>0.9980</td>\n      <td>3.16</td>\n      <td>0.58</td>\n      <td>9.8</td>\n      <td>6</td>\n    </tr>\n    <tr>\n      <th>4</th>\n      <td>7.4</td>\n      <td>0.70</td>\n      <td>0.00</td>\n      <td>1.9</td>\n      <td>0.076</td>\n      <td>11.0</td>\n      <td>34.0</td>\n      <td>0.9978</td>\n      <td>3.51</td>\n      <td>0.56</td>\n      <td>9.4</td>\n      <td>5</td>\n    </tr>\n  </tbody>\n</table>\n</div>"
     },
     "metadata": {},
     "execution_count": 2
    }
   ],
   "source": [
    "wine_quality_df = pd.read_csv('data/winequality-red.csv')\n",
    "wine_quality_df.head()"
   ]
  },
  {
   "cell_type": "code",
   "execution_count": 3,
   "metadata": {},
   "outputs": [
    {
     "output_type": "execute_result",
     "data": {
      "text/plain": [
       "fixed acidity           float64\n",
       "volatile acidity        float64\n",
       "citric acid             float64\n",
       "residual sugar          float64\n",
       "chlorides               float64\n",
       "free sulfur dioxide     float64\n",
       "total sulfur dioxide    float64\n",
       "density                 float64\n",
       "pH                      float64\n",
       "sulphates               float64\n",
       "alcohol                 float64\n",
       "quality                   int64\n",
       "dtype: object"
      ]
     },
     "metadata": {},
     "execution_count": 3
    }
   ],
   "source": [
    "wine_quality_df.dtypes"
   ]
  },
  {
   "cell_type": "code",
   "execution_count": 4,
   "metadata": {},
   "outputs": [
    {
     "output_type": "execute_result",
     "data": {
      "text/plain": [
       "       fixed acidity  volatile acidity  citric acid  residual sugar  \\\n",
       "count    1599.000000       1599.000000  1599.000000     1599.000000   \n",
       "mean        8.319637          0.527821     0.270976        2.538806   \n",
       "std         1.741096          0.179060     0.194801        1.409928   \n",
       "min         4.600000          0.120000     0.000000        0.900000   \n",
       "25%         7.100000          0.390000     0.090000        1.900000   \n",
       "50%         7.900000          0.520000     0.260000        2.200000   \n",
       "75%         9.200000          0.640000     0.420000        2.600000   \n",
       "max        15.900000          1.580000     1.000000       15.500000   \n",
       "\n",
       "         chlorides  free sulfur dioxide  total sulfur dioxide      density  \\\n",
       "count  1599.000000          1599.000000           1599.000000  1599.000000   \n",
       "mean      0.087467            15.874922             46.467792     0.996747   \n",
       "std       0.047065            10.460157             32.895324     0.001887   \n",
       "min       0.012000             1.000000              6.000000     0.990070   \n",
       "25%       0.070000             7.000000             22.000000     0.995600   \n",
       "50%       0.079000            14.000000             38.000000     0.996750   \n",
       "75%       0.090000            21.000000             62.000000     0.997835   \n",
       "max       0.611000            72.000000            289.000000     1.003690   \n",
       "\n",
       "                pH    sulphates      alcohol      quality  \n",
       "count  1599.000000  1599.000000  1599.000000  1599.000000  \n",
       "mean      3.311113     0.658149    10.422983     5.636023  \n",
       "std       0.154386     0.169507     1.065668     0.807569  \n",
       "min       2.740000     0.330000     8.400000     3.000000  \n",
       "25%       3.210000     0.550000     9.500000     5.000000  \n",
       "50%       3.310000     0.620000    10.200000     6.000000  \n",
       "75%       3.400000     0.730000    11.100000     6.000000  \n",
       "max       4.010000     2.000000    14.900000     8.000000  "
      ],
      "text/html": "<div>\n<style scoped>\n    .dataframe tbody tr th:only-of-type {\n        vertical-align: middle;\n    }\n\n    .dataframe tbody tr th {\n        vertical-align: top;\n    }\n\n    .dataframe thead th {\n        text-align: right;\n    }\n</style>\n<table border=\"1\" class=\"dataframe\">\n  <thead>\n    <tr style=\"text-align: right;\">\n      <th></th>\n      <th>fixed acidity</th>\n      <th>volatile acidity</th>\n      <th>citric acid</th>\n      <th>residual sugar</th>\n      <th>chlorides</th>\n      <th>free sulfur dioxide</th>\n      <th>total sulfur dioxide</th>\n      <th>density</th>\n      <th>pH</th>\n      <th>sulphates</th>\n      <th>alcohol</th>\n      <th>quality</th>\n    </tr>\n  </thead>\n  <tbody>\n    <tr>\n      <th>count</th>\n      <td>1599.000000</td>\n      <td>1599.000000</td>\n      <td>1599.000000</td>\n      <td>1599.000000</td>\n      <td>1599.000000</td>\n      <td>1599.000000</td>\n      <td>1599.000000</td>\n      <td>1599.000000</td>\n      <td>1599.000000</td>\n      <td>1599.000000</td>\n      <td>1599.000000</td>\n      <td>1599.000000</td>\n    </tr>\n    <tr>\n      <th>mean</th>\n      <td>8.319637</td>\n      <td>0.527821</td>\n      <td>0.270976</td>\n      <td>2.538806</td>\n      <td>0.087467</td>\n      <td>15.874922</td>\n      <td>46.467792</td>\n      <td>0.996747</td>\n      <td>3.311113</td>\n      <td>0.658149</td>\n      <td>10.422983</td>\n      <td>5.636023</td>\n    </tr>\n    <tr>\n      <th>std</th>\n      <td>1.741096</td>\n      <td>0.179060</td>\n      <td>0.194801</td>\n      <td>1.409928</td>\n      <td>0.047065</td>\n      <td>10.460157</td>\n      <td>32.895324</td>\n      <td>0.001887</td>\n      <td>0.154386</td>\n      <td>0.169507</td>\n      <td>1.065668</td>\n      <td>0.807569</td>\n    </tr>\n    <tr>\n      <th>min</th>\n      <td>4.600000</td>\n      <td>0.120000</td>\n      <td>0.000000</td>\n      <td>0.900000</td>\n      <td>0.012000</td>\n      <td>1.000000</td>\n      <td>6.000000</td>\n      <td>0.990070</td>\n      <td>2.740000</td>\n      <td>0.330000</td>\n      <td>8.400000</td>\n      <td>3.000000</td>\n    </tr>\n    <tr>\n      <th>25%</th>\n      <td>7.100000</td>\n      <td>0.390000</td>\n      <td>0.090000</td>\n      <td>1.900000</td>\n      <td>0.070000</td>\n      <td>7.000000</td>\n      <td>22.000000</td>\n      <td>0.995600</td>\n      <td>3.210000</td>\n      <td>0.550000</td>\n      <td>9.500000</td>\n      <td>5.000000</td>\n    </tr>\n    <tr>\n      <th>50%</th>\n      <td>7.900000</td>\n      <td>0.520000</td>\n      <td>0.260000</td>\n      <td>2.200000</td>\n      <td>0.079000</td>\n      <td>14.000000</td>\n      <td>38.000000</td>\n      <td>0.996750</td>\n      <td>3.310000</td>\n      <td>0.620000</td>\n      <td>10.200000</td>\n      <td>6.000000</td>\n    </tr>\n    <tr>\n      <th>75%</th>\n      <td>9.200000</td>\n      <td>0.640000</td>\n      <td>0.420000</td>\n      <td>2.600000</td>\n      <td>0.090000</td>\n      <td>21.000000</td>\n      <td>62.000000</td>\n      <td>0.997835</td>\n      <td>3.400000</td>\n      <td>0.730000</td>\n      <td>11.100000</td>\n      <td>6.000000</td>\n    </tr>\n    <tr>\n      <th>max</th>\n      <td>15.900000</td>\n      <td>1.580000</td>\n      <td>1.000000</td>\n      <td>15.500000</td>\n      <td>0.611000</td>\n      <td>72.000000</td>\n      <td>289.000000</td>\n      <td>1.003690</td>\n      <td>4.010000</td>\n      <td>2.000000</td>\n      <td>14.900000</td>\n      <td>8.000000</td>\n    </tr>\n  </tbody>\n</table>\n</div>"
     },
     "metadata": {},
     "execution_count": 4
    }
   ],
   "source": [
    "wine_quality_df.describe()"
   ]
  },
  {
   "cell_type": "code",
   "execution_count": 5,
   "metadata": {},
   "outputs": [],
   "source": [
    "x_train, x_test, y_train, y_test = train_test_split(wine_quality_df.drop('quality', axis=1), wine_quality_df['quality'], train_size=0.8, random_state=SEED)"
   ]
  },
  {
   "cell_type": "code",
   "execution_count": 6,
   "metadata": {},
   "outputs": [],
   "source": [
    "def evaluate_regression(model_name: str, y_true: Union[pd.Series, np.array], y_pred: Union[pd.Series, np.array]) -> Dict[str, int]:\n",
    "    \"\"\"\n",
    "    Function to evaluate and calculate metrics score for any regression model object.\n",
    "\n",
    "    Args:\n",
    "        model_name (str): Model object custom name.\n",
    "        y_true (Union[pd.Series, np.array]): Feature dataframe from test.\n",
    "        y_pred (Union[pd.Series, np.array]): Label series from test.\n",
    "\n",
    "    Returns:\n",
    "        Dict[str, int]: Dictionary containing the metrics and calculated values.\n",
    "    \"\"\"\n",
    "\n",
    "    metrics_dict = {}\n",
    "    metrics_dict['model_name'] = model_name\n",
    "    metrics_dict['r2_score'] = r2_score(y_true, y_pred)\n",
    "    metrics_dict['explained_variance'] = explained_variance_score(y_true, y_pred)\n",
    "    metrics_dict['mae'] = mean_absolute_error(y_true, y_pred)\n",
    "    metrics_dict['mse'] = mean_squared_error(y_true, y_pred)\n",
    "\n",
    "    return metrics_dict"
   ]
  },
  {
   "cell_type": "code",
   "execution_count": 7,
   "metadata": {},
   "outputs": [
    {
     "output_type": "stream",
     "name": "stdout",
     "text": [
      "{'model_name': 'Linear Regression', 'r2_score': 0.3830963482610811, 'explained_variance': 0.3831045783595084, 'mae': 0.521571858395009, 'mse': 0.43723046316995884}\n"
     ]
    }
   ],
   "source": [
    "lin_reg_pipe = Pipeline([('scaler', StandardScaler()), ('lin_reg', LinearRegression())])\n",
    "lin_reg_pipe.fit(x_train, y_train)\n",
    "\n",
    "lin_reg_y_pred = lin_reg_pipe.predict(x_test)\n",
    "\n",
    "lin_reg_metrics = evaluate_regression('Linear Regression', y_test, lin_reg_y_pred)\n",
    "print(lin_reg_metrics)"
   ]
  },
  {
   "cell_type": "code",
   "execution_count": 8,
   "metadata": {},
   "outputs": [
    {
     "output_type": "stream",
     "name": "stdout",
     "text": [
      "{'model_name': 'Stochastic Gradient Descent Regression', 'r2_score': 0.3793523033196343, 'explained_variance': 0.379438224952816, 'mae': 0.5250816472985841, 'mse': 0.4398840550222092}\n"
     ]
    }
   ],
   "source": [
    "sgd_reg_pipe = Pipeline([('scaler', StandardScaler()), ('sgd_reg', SGDRegressor())])\n",
    "sgd_reg_pipe.fit(x_train, y_train)\n",
    "\n",
    "sgd_reg_y_pred = sgd_reg_pipe.predict(x_test)\n",
    "\n",
    "sgd_reg_metrics = evaluate_regression('Stochastic Gradient Descent Regression', y_test, sgd_reg_y_pred)\n",
    "print(sgd_reg_metrics)"
   ]
  },
  {
   "cell_type": "code",
   "execution_count": 9,
   "metadata": {},
   "outputs": [
    {
     "output_type": "stream",
     "name": "stdout",
     "text": [
      "{'model_name': 'XGBoost Regressor', 'r2_score': 0.4720407552376791, 'explained_variance': 0.47305291033443886, 'mae': 0.39728558957576754, 'mse': 0.3741911147252949}\n"
     ]
    }
   ],
   "source": [
    "xgb_reg_pipe = Pipeline([('scaler', StandardScaler()), ('xgb_reg', XGBRegressor())])\n",
    "xgb_reg_pipe.fit(x_train, y_train)\n",
    "\n",
    "xgb_reg_y_pred = xgb_reg_pipe.predict(x_test)\n",
    "\n",
    "xgb_reg_metrics = evaluate_regression('XGBoost Regressor', y_test, xgb_reg_y_pred)\n",
    "print(xgb_reg_metrics)"
   ]
  },
  {
   "cell_type": "code",
   "execution_count": 10,
   "metadata": {},
   "outputs": [
    {
     "output_type": "stream",
     "name": "stdout",
     "text": [
      "{'model_name': 'Multilayer Perceptron Regressor', 'r2_score': 0.20794244719099564, 'explained_variance': 0.20797239468096207, 'mae': 0.5220364208377996, 'mse': 0.5613707905533818}\n"
     ]
    }
   ],
   "source": [
    "mlp_reg_pipe = Pipeline([('scaler', StandardScaler()), ('mlp_reg', MLPRegressor(hidden_layer_sizes=(50,)*8))])\n",
    "mlp_reg_pipe.fit(x_train, y_train)\n",
    "\n",
    "mlp_reg_y_pred = mlp_reg_pipe.predict(x_test)\n",
    "\n",
    "mlp_reg_metrics = evaluate_regression('Multilayer Perceptron Regressor', y_test, mlp_reg_y_pred)\n",
    "print(mlp_reg_metrics)"
   ]
  },
  {
   "cell_type": "code",
   "execution_count": 11,
   "metadata": {},
   "outputs": [
    {
     "output_type": "stream",
     "name": "stdout",
     "text": [
      "{'model_name': 'Voting Regressor', 'r2_score': 0.48460719759536997, 'explained_variance': 0.48475828671649923, 'mae': 0.4485055515325239, 'mse': 0.36528464870428157}\n"
     ]
    }
   ],
   "source": [
    "voting_reg = VotingRegressor([('lin_reg', lin_reg_pipe), ('sgd_reg', sgd_reg_pipe), ('xgb_reg', xgb_reg_pipe), ('mlp_reg', mlp_reg_pipe)], n_jobs=-1)\n",
    "voting_reg.fit(x_train, y_train)\n",
    "\n",
    "voting_reg_y_pred = voting_reg.predict(x_test)\n",
    "\n",
    "voting_reg_metrics = evaluate_regression('Voting Regressor', y_test, voting_reg_y_pred)\n",
    "print(voting_reg_metrics)"
   ]
  },
  {
   "cell_type": "code",
   "execution_count": 12,
   "metadata": {},
   "outputs": [],
   "source": [
    "class DeepNeuralNetworkRegressor(torch.nn.Module):\n",
    "\n",
    "    def __init__(self, input_size: int, hidden_size: int, hidden_layers: int):\n",
    "        super().__init__()\n",
    "\n",
    "        self.input_size = input_size\n",
    "        self.hidden_size = hidden_size\n",
    "        self.hidden_layers = hidden_layers\n",
    "\n",
    "        self.layers = torch.nn.ModuleList()\n",
    "\n",
    "        # Input Layer\n",
    "        self.layers.append(torch.nn.Linear(self.input_size, self.hidden_size))\n",
    "        self.layers.append(torch.nn.ReLU())\n",
    "\n",
    "        # Hidden Layers\n",
    "        for n_layer in range(self.hidden_layers):\n",
    "            self.layers.append(torch.nn.Linear(self.hidden_size, self.hidden_size))\n",
    "            self.layers.append(torch.nn.ReLU())\n",
    "\n",
    "        # Output Layer\n",
    "        self.layers.append(torch.nn.Linear(self.hidden_size, 1))\n",
    "\n",
    "    def forward(self, x):\n",
    "        x = torch.tensor(x.values, dtype=torch.float32)\n",
    "\n",
    "        for layer in self.layers:\n",
    "            x = layer(x)\n",
    "\n",
    "        return x"
   ]
  },
  {
   "cell_type": "code",
   "execution_count": 13,
   "metadata": {
    "tags": []
   },
   "outputs": [],
   "source": [
    "deep_reg = DeepNeuralNetworkRegressor(input_size=x_train.shape[1], hidden_size=50, hidden_layers=8)\n",
    "\n",
    "loss_fn = torch.nn.MSELoss()\n",
    "optimizer = torch.optim.Adam(deep_reg.parameters(), lr=0.01)\n",
    "\n",
    "epochs = 200\n",
    "\n",
    "for epoch in range(epochs):\n",
    "    deep_reg.train()\n",
    "    optimizer.zero_grad()\n",
    "\n",
    "    # Forward Pass\n",
    "    y_pred = deep_reg(x_train)\n",
    "\n",
    "    # Loss Computation\n",
    "    loss = loss_fn(torch.tensor(y_train.values, dtype=torch.float32), y_pred)\n",
    "\n",
    "    # Backward Propagation\n",
    "    loss.backward()\n",
    "    optimizer.step()"
   ]
  },
  {
   "cell_type": "code",
   "execution_count": 14,
   "metadata": {},
   "outputs": [
    {
     "output_type": "stream",
     "name": "stdout",
     "text": [
      "{'model_name': 'Deep Neural Network Regression', 'r2_score': 0.1392872467800419, 'explained_variance': 0.14906499723941535, 'mae': 0.639071986079216, 'mse': 0.6100301638446453}\n"
     ]
    }
   ],
   "source": [
    "y_pred = deep_reg(x_test).detach().numpy()\n",
    "\n",
    "deep_reg_metrics = evaluate_regression('Deep Neural Network Regression', y_test, y_pred)\n",
    "print(deep_reg_metrics)"
   ]
  },
  {
   "cell_type": "code",
   "execution_count": 15,
   "metadata": {},
   "outputs": [
    {
     "output_type": "execute_result",
     "data": {
      "text/plain": [
       "                               model_name  r2_score  explained_variance  \\\n",
       "0                        Voting Regressor  0.484607            0.484758   \n",
       "1                       XGBoost Regressor  0.472041            0.473053   \n",
       "2                       Linear Regression  0.383096            0.383105   \n",
       "3  Stochastic Gradient Descent Regression  0.379352            0.379438   \n",
       "4         Multilayer Perceptron Regressor  0.207942            0.207972   \n",
       "5          Deep Neural Network Regression  0.139287            0.149065   \n",
       "\n",
       "        mae       mse  \n",
       "0  0.448506  0.365285  \n",
       "1  0.397286  0.374191  \n",
       "2  0.521572  0.437230  \n",
       "3  0.525082  0.439884  \n",
       "4  0.522036  0.561371  \n",
       "5  0.639072  0.610030  "
      ],
      "text/html": "<div>\n<style scoped>\n    .dataframe tbody tr th:only-of-type {\n        vertical-align: middle;\n    }\n\n    .dataframe tbody tr th {\n        vertical-align: top;\n    }\n\n    .dataframe thead th {\n        text-align: right;\n    }\n</style>\n<table border=\"1\" class=\"dataframe\">\n  <thead>\n    <tr style=\"text-align: right;\">\n      <th></th>\n      <th>model_name</th>\n      <th>r2_score</th>\n      <th>explained_variance</th>\n      <th>mae</th>\n      <th>mse</th>\n    </tr>\n  </thead>\n  <tbody>\n    <tr>\n      <th>0</th>\n      <td>Voting Regressor</td>\n      <td>0.484607</td>\n      <td>0.484758</td>\n      <td>0.448506</td>\n      <td>0.365285</td>\n    </tr>\n    <tr>\n      <th>1</th>\n      <td>XGBoost Regressor</td>\n      <td>0.472041</td>\n      <td>0.473053</td>\n      <td>0.397286</td>\n      <td>0.374191</td>\n    </tr>\n    <tr>\n      <th>2</th>\n      <td>Linear Regression</td>\n      <td>0.383096</td>\n      <td>0.383105</td>\n      <td>0.521572</td>\n      <td>0.437230</td>\n    </tr>\n    <tr>\n      <th>3</th>\n      <td>Stochastic Gradient Descent Regression</td>\n      <td>0.379352</td>\n      <td>0.379438</td>\n      <td>0.525082</td>\n      <td>0.439884</td>\n    </tr>\n    <tr>\n      <th>4</th>\n      <td>Multilayer Perceptron Regressor</td>\n      <td>0.207942</td>\n      <td>0.207972</td>\n      <td>0.522036</td>\n      <td>0.561371</td>\n    </tr>\n    <tr>\n      <th>5</th>\n      <td>Deep Neural Network Regression</td>\n      <td>0.139287</td>\n      <td>0.149065</td>\n      <td>0.639072</td>\n      <td>0.610030</td>\n    </tr>\n  </tbody>\n</table>\n</div>"
     },
     "metadata": {},
     "execution_count": 15
    }
   ],
   "source": [
    "metrics_list = [lin_reg_metrics, sgd_reg_metrics, xgb_reg_metrics, mlp_reg_metrics, voting_reg_metrics, deep_reg_metrics]\n",
    "results = pd.DataFrame(metrics_list).sort_values(['mse']).reset_index(drop=True)\n",
    "results.head(results.shape[0])"
   ]
  },
  {
   "source": [
    "In that way, we can choose the XGBoost Regressor model as our default model that is the second highest model performance and it can be easily explained by using it's features importances and SHAP Tree Explainer."
   ],
   "cell_type": "markdown",
   "metadata": {}
  },
  {
   "cell_type": "code",
   "execution_count": 16,
   "metadata": {},
   "outputs": [],
   "source": [
    "with open('model/xgb_reg.pickle', 'wb') as pickle_file:\n",
    "    pickle.dump(xgb_reg_pipe, pickle_file)"
   ]
  }
 ]
}